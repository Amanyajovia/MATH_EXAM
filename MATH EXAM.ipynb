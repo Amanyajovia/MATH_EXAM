{
 "cells": [
  {
   "cell_type": "markdown",
   "id": "5fb819bc-d823-4eee-bd82-e281246e3a49",
   "metadata": {},
   "source": [
    "## QUESTION 5"
   ]
  },
  {
   "cell_type": "markdown",
   "id": "0f638ac0-6986-4f11-aacd-d12ad4b23100",
   "metadata": {},
   "source": [
    "## (i)"
   ]
  },
  {
   "cell_type": "code",
   "execution_count": 28,
   "id": "ffb81184-5941-43f0-b8f2-5a5803e7b81f",
   "metadata": {},
   "outputs": [],
   "source": [
    "import numpy as np"
   ]
  },
  {
   "cell_type": "code",
   "execution_count": 4,
   "id": "78d43b33-6373-4f35-a598-2f1ad351bfe5",
   "metadata": {},
   "outputs": [
    {
     "name": "stdout",
     "output_type": "stream",
     "text": [
      "[[1.  0.2 0.5]\n",
      " [0.2 1.  0.8]\n",
      " [0.5 0.8 1. ]]\n"
     ]
    }
   ],
   "source": [
    "# Let the matrix be x\n",
    "x = np.array([[1,0.2,0.5],\n",
    "              [0.2,1,0.8],\n",
    "              [0.5,0.8,1]])\n",
    "print(x)"
   ]
  },
  {
   "cell_type": "code",
   "execution_count": 5,
   "id": "ab7fab96-4dd3-4456-a935-28e43b0c08ab",
   "metadata": {},
   "outputs": [
    {
     "name": "stdout",
     "output_type": "stream",
     "text": [
      "[[1.  0.2 0.5]\n",
      " [0.2 1.  0.8]\n",
      " [0.5 0.8 1. ]]\n"
     ]
    }
   ],
   "source": [
    "# Transpose of  matrix x\n",
    "x.T\n",
    "print(x.T)"
   ]
  },
  {
   "cell_type": "markdown",
   "id": "81808b03-3da1-4b55-abb4-7146cecd2891",
   "metadata": {},
   "source": [
    "## (ii)"
   ]
  },
  {
   "cell_type": "code",
   "execution_count": 6,
   "id": "44438f61-0f21-4273-bdbb-e7b519f2d0c0",
   "metadata": {},
   "outputs": [
    {
     "name": "stdout",
     "output_type": "stream",
     "text": [
      "0.2299999999999999\n"
     ]
    }
   ],
   "source": [
    "x = np.array([[1,0.2,0.5],\n",
    "              [0.2,1,0.8],\n",
    "              [0.5,0.8,1]])\n",
    "det_x = np.linalg.det(x)\n",
    "print(det_x)"
   ]
  },
  {
   "cell_type": "markdown",
   "id": "66180da6-591d-426e-9ad6-c0b4ab3aa3d5",
   "metadata": {},
   "source": [
    "## (iii)\n"
   ]
  },
  {
   "cell_type": "code",
   "execution_count": 8,
   "id": "b5ee87b4-9bb7-4fb6-b056-9e58b1842081",
   "metadata": {},
   "outputs": [
    {
     "name": "stdout",
     "output_type": "stream",
     "text": [
      "EigResult(eigenvalues=array([2.04100779, 0.82188052, 0.13711169]), eigenvectors=array([[-0.43721717, -0.85359707, -0.28321933],\n",
      "       [-0.59931898,  0.51133314, -0.61591816],\n",
      "       [-0.67056536,  0.09955128,  0.73514055]]))\n"
     ]
    }
   ],
   "source": [
    "# Decomposing the matrix\n",
    "x = np.array([[1,0.2,0.5],\n",
    "              [0.2,1,0.8],\n",
    "              [0.5,0.8,1]])\n",
    "Dx = np.linalg.eig(x)\n",
    "print(Dx)"
   ]
  },
  {
   "cell_type": "markdown",
   "id": "66f968e2-06c2-4d2c-8684-5d9762de60e8",
   "metadata": {},
   "source": [
    "## (iv)"
   ]
  },
  {
   "cell_type": "code",
   "execution_count": 32,
   "id": "17c96bf0-a00d-41c5-8f7f-f3b424578ccd",
   "metadata": {},
   "outputs": [
    {
     "ename": "AttributeError",
     "evalue": "module 'numpy' has no attribute 'transform'",
     "output_type": "error",
     "traceback": [
      "\u001b[1;31m---------------------------------------------------------------------------\u001b[0m",
      "\u001b[1;31mAttributeError\u001b[0m                            Traceback (most recent call last)",
      "Cell \u001b[1;32mIn[32], line 5\u001b[0m\n\u001b[0;32m      1\u001b[0m \u001b[38;5;66;03m# Transforming the matrix\u001b[39;00m\n\u001b[0;32m      2\u001b[0m x \u001b[38;5;241m=\u001b[39m np\u001b[38;5;241m.\u001b[39marray([[\u001b[38;5;241m1\u001b[39m,\u001b[38;5;241m0.2\u001b[39m,\u001b[38;5;241m0.5\u001b[39m],\n\u001b[0;32m      3\u001b[0m               [\u001b[38;5;241m0.2\u001b[39m,\u001b[38;5;241m1\u001b[39m,\u001b[38;5;241m0.8\u001b[39m],\n\u001b[0;32m      4\u001b[0m               [\u001b[38;5;241m0.5\u001b[39m,\u001b[38;5;241m0.8\u001b[39m,\u001b[38;5;241m1\u001b[39m]])\n\u001b[1;32m----> 5\u001b[0m tx \u001b[38;5;241m=\u001b[39m \u001b[43mnp\u001b[49m\u001b[38;5;241;43m.\u001b[39;49m\u001b[43mtransform\u001b[49m(x)\n\u001b[0;32m      6\u001b[0m \u001b[38;5;28mprint\u001b[39m(tx)\n",
      "File \u001b[1;32m~\\myenv\\Lib\\site-packages\\numpy\\__init__.py:428\u001b[0m, in \u001b[0;36m__getattr__\u001b[1;34m(attr)\u001b[0m\n\u001b[0;32m    425\u001b[0m     \u001b[38;5;28;01mimport\u001b[39;00m \u001b[38;5;21;01mnumpy\u001b[39;00m\u001b[38;5;21;01m.\u001b[39;00m\u001b[38;5;21;01mchar\u001b[39;00m \u001b[38;5;28;01mas\u001b[39;00m \u001b[38;5;21;01mchar\u001b[39;00m\n\u001b[0;32m    426\u001b[0m     \u001b[38;5;28;01mreturn\u001b[39;00m char\u001b[38;5;241m.\u001b[39mchararray\n\u001b[1;32m--> 428\u001b[0m \u001b[38;5;28;01mraise\u001b[39;00m \u001b[38;5;167;01mAttributeError\u001b[39;00m(\u001b[38;5;124m\"\u001b[39m\u001b[38;5;124mmodule \u001b[39m\u001b[38;5;132;01m{!r}\u001b[39;00m\u001b[38;5;124m has no attribute \u001b[39m\u001b[38;5;124m\"\u001b[39m\n\u001b[0;32m    429\u001b[0m                      \u001b[38;5;124m\"\u001b[39m\u001b[38;5;132;01m{!r}\u001b[39;00m\u001b[38;5;124m\"\u001b[39m\u001b[38;5;241m.\u001b[39mformat(\u001b[38;5;18m__name__\u001b[39m, attr))\n",
      "\u001b[1;31mAttributeError\u001b[0m: module 'numpy' has no attribute 'transform'"
     ]
    }
   ],
   "source": [
    "# Transforming the matrix\n",
    "x = np.array([[1,0.2,0.5],\n",
    "              [0.2,1,0.8],\n",
    "              [0.5,0.8,1]])\n",
    "tx = np.transform(x)\n",
    "print(tx)"
   ]
  },
  {
   "cell_type": "markdown",
   "id": "df51a2dc-53e9-431d-959f-069f23e30b18",
   "metadata": {},
   "source": [
    "## QUESTION 6"
   ]
  },
  {
   "cell_type": "markdown",
   "id": "8437e956-e255-4b18-8d3d-054065ac46f0",
   "metadata": {},
   "source": [
    "## (i)"
   ]
  },
  {
   "cell_type": "code",
   "execution_count": 11,
   "id": "cdf01458-dbff-4d41-9602-041388b5f0a9",
   "metadata": {},
   "outputs": [],
   "source": [
    "from numpy import random"
   ]
  },
  {
   "cell_type": "code",
   "execution_count": 12,
   "id": "5745fe89-e830-4278-a086-ce139a7faad8",
   "metadata": {},
   "outputs": [],
   "source": [
    "import matplotlib.pyplot as plt"
   ]
  },
  {
   "cell_type": "code",
   "execution_count": 13,
   "id": "920650ea-7703-4296-963f-8560628b5244",
   "metadata": {},
   "outputs": [
    {
     "name": "stdout",
     "output_type": "stream",
     "text": [
      "[11  4  5  5  6  6  4 10  5  4  5  4  4  4  2  4  2  6  3  3  5  2  4  6\n",
      "  7  6  7  7  3  6  3  9  1  5  2  3  8  3  2  6  5  7  3  3  3  3  8  2\n",
      "  1  7  7  5  5  4  8  2  6  4  1  4  4  4  3  2  5  3  5  0  6  5  6  5\n",
      "  5  5  6  9  3  3  7  4  5  4  7  7  6  5  5  8  5  5  7  6  3  3  3  7\n",
      "  2  6  8 15  4 10  6  6  9  3  4  2  2  6  5  4  3  2  6  5  7  5  8  4\n",
      "  4  5  3  8  4  9  1  5  4  4  7  3  6  6  6  2  8  9  4  4  6  8  6  5\n",
      "  3  5  9  3  5  9  4  4  5  5  6  8  8  6  6  6  5  8  4  9  6  2  6  9\n",
      "  7  6  5  7  7  4  1  2  7  6 11  5  7  5  8  5  3  6  8  7  7  7  4  5\n",
      "  4  3  3  9  6  3  2  5  5  7  3  7  5  2  3  6  3  6  8  5  2  5  4  4\n",
      "  7  6  6  4  4  6  3  7  2  9  7  3  4  4  3  2  5  6  3  2  2  3  7  8\n",
      "  8  5  5  4  3  3  4  3  7  6  5  8  4  5  3  8  1 10  6  6  9  5  4  3\n",
      "  5  5  5  3  8  4  2  8  7  6  4  2  3  5  7  6  5  5  6  5  3  6  5  8\n",
      "  5  3  4  4  5  5  4  6  6  6  9  5 10  2  7  2  5  4  3  2  5  4  3  9\n",
      "  5  4  7  7  7  2  5  6  5  9  7  5  5  7  5  6  7  4  6  7  4  5 10  6\n",
      "  8  6  7  6  7  2  4  5  9  7  4  3  5  5  6  5  6  4  2  7  7  5  7  6\n",
      "  5  3  7  4  3  9  3  6  2  6  5  4  6  2  1  2  3  1  5  2  7  5  6  4\n",
      "  5  5  5  7  4  2  3  0  2  3  3  7  6  5  4 10  6  5  4  5  9  4  5  1\n",
      "  4  5  3  4  6  1  7  5  5  4  6  2  5  5  9  4  8  3  3  4  5  2  4  7\n",
      "  6  5  8  3  5  2  5  4  5  4  5  6  5  6  6  6  7  4  5  2  5  4  8  6\n",
      "  8  7  5  4  8  9  8  3  6  5  8 10  4  4  9  4  4  8  3  4  3  6  4  6\n",
      "  6  3  4  5  6  5  5  9  2  4  2  5  3  6  4  7  4  2  3  7  8  6  4  3\n",
      "  3  4  6  4  5  6  3  1  3  9  6  5  3  5  4  4  6  5  5  5  5  3  2  3\n",
      "  6  2  6  6  5  4  2  8  4  7  6  5  4  2  4  5  3  6  4  9  6  6  2  4\n",
      "  6  4  5  4  5  4  7  3  5  2  5  6  3  4  2  2  7  3  2  2  3  2  4  5\n",
      "  4  5  7  4  1  4  2  6 10  5  0  4  6  6  5  6  2  3  2  5  1  5  5  5\n",
      "  3  5  6  2 10  2  3  3  7  5  6  7  4  7  3  5  6  2  6  2  2  5  5  8\n",
      "  7  2  2  1  5  8  8  4  7 12  8  2  5  5  2  2  9  4  5  6  4  0  3  3\n",
      " 12  8  3  6  6  4  8  3  7  4  8  2  2  5  6  4  9  6 12  6  9  5  2  6\n",
      "  4  1  3  8  8  5  5  6  1  9  5  4  7  4  5  2  5  4 10  5  8  5  1  4\n",
      "  7  6  5  5  5  6  4  4  2  6  6  4  8  1  3  6  8 11  2  6  4  7 10  7\n",
      "  5 11  9  4  5  4  3  3  2  5  6 10  4  6  7  4  9  5 10  4  9  6  6  4\n",
      "  4  6  4  2  6  4  6  5  5  8  7  2  6  8  8  6  5  6  5  5  6  9  4  5\n",
      "  3  1  8  5  5  3  7  8  7  1  4  3  5  3  8  2  4  6  5  4  3  4  7  2\n",
      "  5  7  5  5  7  6  7  5  6  6  5  4  6  6  5  5  5  8  8  7  2  9  6  6\n",
      "  9  4  7  6  5  2  2  1  5  6  5  3  8 10  6  4  2  5  9  2  5  3  3  7\n",
      "  9  6  2  7  5  5  7  7  5  7  2  3  6  3  3  6  2  4  6  4  7  3  7  7\n",
      "  6  6  3  5  4  2  6  4  6  4  2  4  3  6  8  9  5  8  1  4  2  3  8  7\n",
      "  8  7  5  2  3  3 10  5  3  9  5  9  6  6  3  5  4  3  8  2  8  1  2  4\n",
      "  2  6  6  2  7  9  4  2  5  9  2  1  6  5  3  6  7  7  2  6  5  6  1  4\n",
      "  6  4  5  9  2  4  1  6  6  4  4  6  8  4  5  3  4  5  4  5  6  3  6  3\n",
      "  3  7  7  7  4  4  6  5 11  2  8  6  5  3  4  4  4  4  5  8  6  7  4  8\n",
      "  9  6  4  6  9  7  4  3 15  2  8  4  1  6  5  2]\n"
     ]
    }
   ],
   "source": [
    "poisson_data = random.poisson(lam=5,size=1000)\n",
    "print(poisson_data)"
   ]
  },
  {
   "cell_type": "code",
   "execution_count": 27,
   "id": "72b482d9-f6d1-4ef5-a460-896b972e35d7",
   "metadata": {},
   "outputs": [
    {
     "name": "stdout",
     "output_type": "stream",
     "text": [
      "4.902\n"
     ]
    }
   ],
   "source": [
    "poisson_data = random.poisson(lam=5,size=1000)\n",
    "mean = np.mean(poisson_data)\n",
    "print(mean)"
   ]
  },
  {
   "cell_type": "code",
   "execution_count": 26,
   "id": "a89b1d00-9e2f-4983-ae1c-055618857c33",
   "metadata": {},
   "outputs": [
    {
     "name": "stdout",
     "output_type": "stream",
     "text": [
      "5.013974999999999\n"
     ]
    }
   ],
   "source": [
    "poisson_data = random.poisson(lam=5,size=1000)\n",
    "variance=np.var(poisson_data)\n",
    "print(variance)"
   ]
  },
  {
   "cell_type": "code",
   "execution_count": 20,
   "id": "af544019-ab22-4914-a88b-5b02034f456d",
   "metadata": {},
   "outputs": [],
   "source": [
    "import seaborn as sns"
   ]
  },
  {
   "cell_type": "code",
   "execution_count": 25,
   "id": "be6e7934-f3de-4529-9bc5-a9eec48719a1",
   "metadata": {},
   "outputs": [
    {
     "data": {
      "image/png": "[encoded data removed]",
      "text/plain": [
       "<Figure size 640x480 with 1 Axes>"
      ]
     },
     "metadata": {},
     "output_type": "display_data"
    }
   ],
   "source": [
    "# A histogram for poisson data\n",
    "poisson_data = random.poisson(lam=5,size=1000)\n",
    "sns.histplot(poisson_data,bins=10,kde=False,color='blue')\n",
    "plt.title('A HISTOGRAM SHOWING THE ARRIVAL OF CUSTOMERS PER DAY')\n",
    "plt.xlabel('Days')\n",
    "plt.ylabel('Customers')\n",
    "plt.show()"
   ]
  },
  {
   "cell_type": "code",
   "execution_count": null,
   "id": "7b1ceb33-7a0a-4d08-8947-1e1929187cc1",
   "metadata": {},
   "outputs": [],
   "source": []
  }
 ],
 "metadata": {
  "kernelspec": {
   "display_name": "Python 3 (ipykernel)",
   "language": "python",
   "name": "python3"
  },
  "language_info": {
   "codemirror_mode": {
    "name": "ipython",
    "version": 3
   },
   "file_extension": ".py",
   "mimetype": "text/x-python",
   "name": "python",
   "nbconvert_exporter": "python",
   "pygments_lexer": "ipython3",
   "version": "3.12.5"
  }
 },
 "nbformat": 4,
 "nbformat_minor": 5
}
